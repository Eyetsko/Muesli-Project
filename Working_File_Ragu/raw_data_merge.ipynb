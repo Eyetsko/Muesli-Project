{
 "cells": [
  {
   "cell_type": "code",
   "execution_count": 2,
   "id": "f64846e6",
   "metadata": {},
   "outputs": [],
   "source": [
    "import pandas as pd\n"
   ]
  },
  {
   "cell_type": "code",
   "execution_count": 3,
   "id": "4613d73b",
   "metadata": {},
   "outputs": [
    {
     "name": "stdout",
     "output_type": "stream",
     "text": [
      "Requirement already satisfied: openpyxl in /Applications/miniconda3/lib/python3.13/site-packages (3.1.5)\n",
      "Requirement already satisfied: et-xmlfile in /Applications/miniconda3/lib/python3.13/site-packages (from openpyxl) (2.0.0)\n",
      "Note: you may need to restart the kernel to use updated packages.\n"
     ]
    }
   ],
   "source": [
    "pip install openpyxl"
   ]
  },
  {
   "cell_type": "code",
   "execution_count": 4,
   "id": "e8299182",
   "metadata": {},
   "outputs": [],
   "source": [
    "df_orders = pd.read_excel(\"/Users/rsaba/Desktop/Muesli-Project/Muesli Project raw data.xlsx\", sheet_name=\"Orders\", engine=\"openpyxl\", header=1)\n",
    "df_campaign = pd.read_excel(\"/Users/rsaba/Desktop/Muesli-Project/Muesli Project raw data.xlsx\", sheet_name=\"Campaign Data\", engine=\"openpyxl\", header=0)\n",
    "df_process = pd.read_excel(\"/Users/rsaba/Desktop/Muesli-Project/Muesli Project raw data.xlsx\", sheet_name=\"Order Process Data\", engine=\"openpyxl\", header=0)\n",
    "df_intern = pd.read_excel(\"/Users/rsaba/Desktop/Muesli-Project/Muesli Project raw data.xlsx\", sheet_name=\"InternData Study\", engine=\"openpyxl\", header=0)\n"
   ]
  },
  {
   "cell_type": "code",
   "execution_count": 5,
   "id": "a64b94bb",
   "metadata": {},
   "outputs": [
    {
     "data": {
      "text/plain": [
       "Index(['Row ID', 'Order ID', 'Order Date', 'On Truck Scan Date', 'Ship Mode'], dtype='object')"
      ]
     },
     "execution_count": 5,
     "metadata": {},
     "output_type": "execute_result"
    }
   ],
   "source": [
    "df_process.columns"
   ]
  },
  {
   "cell_type": "code",
   "execution_count": 23,
   "id": "a15cc914",
   "metadata": {},
   "outputs": [
    {
     "name": "stdout",
     "output_type": "stream",
     "text": [
      "Empty DataFrame\n",
      "Columns: [Order ID, Arrival Scan Date]\n",
      "Index: []\n"
     ]
    }
   ],
   "source": [
    "# Anzahl unterschiedlicher On Truck Scan Dates pro Order ID\n",
    "order_check = df_campaign.groupby('Order ID')['Arrival Scan Date'].nunique().reset_index()\n",
    "\n",
    "# Filtern: Nur die Order IDs mit mehr als 1 unterschiedlichem Datum\n",
    "duplicates = order_check[order_check['Arrival Scan Date'] > 1]\n",
    "\n",
    "print(duplicates)"
   ]
  },
  {
   "cell_type": "code",
   "execution_count": 24,
   "id": "2e537722",
   "metadata": {},
   "outputs": [
    {
     "data": {
      "text/html": [
       "<div>\n",
       "<style scoped>\n",
       "    .dataframe tbody tr th:only-of-type {\n",
       "        vertical-align: middle;\n",
       "    }\n",
       "\n",
       "    .dataframe tbody tr th {\n",
       "        vertical-align: top;\n",
       "    }\n",
       "\n",
       "    .dataframe thead th {\n",
       "        text-align: right;\n",
       "    }\n",
       "</style>\n",
       "<table border=\"1\" class=\"dataframe\">\n",
       "  <thead>\n",
       "    <tr style=\"text-align: right;\">\n",
       "      <th></th>\n",
       "      <th>Order ID</th>\n",
       "      <th>Arrival Scan Date</th>\n",
       "      <th>Customer Name</th>\n",
       "    </tr>\n",
       "  </thead>\n",
       "  <tbody>\n",
       "  </tbody>\n",
       "</table>\n",
       "</div>"
      ],
      "text/plain": [
       "Empty DataFrame\n",
       "Columns: [Order ID, Arrival Scan Date, Customer Name]\n",
       "Index: []"
      ]
     },
     "execution_count": 24,
     "metadata": {},
     "output_type": "execute_result"
    }
   ],
   "source": [
    "df_campaign[df_campaign['Order ID'].isin(duplicates['Order ID'])]\n"
   ]
  },
  {
   "cell_type": "code",
   "execution_count": 6,
   "id": "2e7c08a7",
   "metadata": {},
   "outputs": [
    {
     "data": {
      "text/html": [
       "<div>\n",
       "<style scoped>\n",
       "    .dataframe tbody tr th:only-of-type {\n",
       "        vertical-align: middle;\n",
       "    }\n",
       "\n",
       "    .dataframe tbody tr th {\n",
       "        vertical-align: top;\n",
       "    }\n",
       "\n",
       "    .dataframe thead th {\n",
       "        text-align: right;\n",
       "    }\n",
       "</style>\n",
       "<table border=\"1\" class=\"dataframe\">\n",
       "  <thead>\n",
       "    <tr style=\"text-align: right;\">\n",
       "      <th></th>\n",
       "      <th>Order ID</th>\n",
       "      <th>Ready to Ship Date</th>\n",
       "      <th>Pickup Date</th>\n",
       "    </tr>\n",
       "  </thead>\n",
       "  <tbody>\n",
       "    <tr>\n",
       "      <th>0</th>\n",
       "      <td>CA-2019-116540</td>\n",
       "      <td>2019-09-02</td>\n",
       "      <td>2019-09-03</td>\n",
       "    </tr>\n",
       "    <tr>\n",
       "      <th>1</th>\n",
       "      <td>CA-2019-116540</td>\n",
       "      <td>2019-09-02</td>\n",
       "      <td>2019-09-03</td>\n",
       "    </tr>\n",
       "    <tr>\n",
       "      <th>2</th>\n",
       "      <td>CA-2019-129847</td>\n",
       "      <td>2019-09-04</td>\n",
       "      <td>2019-09-04</td>\n",
       "    </tr>\n",
       "    <tr>\n",
       "      <th>3</th>\n",
       "      <td>CA-2019-129630</td>\n",
       "      <td>2019-09-04</td>\n",
       "      <td>2019-09-04</td>\n",
       "    </tr>\n",
       "    <tr>\n",
       "      <th>4</th>\n",
       "      <td>CA-2019-106278</td>\n",
       "      <td>2019-09-05</td>\n",
       "      <td>2019-09-06</td>\n",
       "    </tr>\n",
       "  </tbody>\n",
       "</table>\n",
       "</div>"
      ],
      "text/plain": [
       "         Order ID Ready to Ship Date Pickup Date\n",
       "0  CA-2019-116540         2019-09-02  2019-09-03\n",
       "1  CA-2019-116540         2019-09-02  2019-09-03\n",
       "2  CA-2019-129847         2019-09-04  2019-09-04\n",
       "3  CA-2019-129630         2019-09-04  2019-09-04\n",
       "4  CA-2019-106278         2019-09-05  2019-09-06"
      ]
     },
     "execution_count": 6,
     "metadata": {},
     "output_type": "execute_result"
    }
   ],
   "source": [
    "df_intern.head()"
   ]
  },
  {
   "cell_type": "code",
   "execution_count": 7,
   "id": "c4494afd",
   "metadata": {},
   "outputs": [
    {
     "name": "stdout",
     "output_type": "stream",
     "text": [
      "{'Orders': np.int64(4985), 'Campaign Data': np.int64(0), 'Order Process Data': np.int64(2897), 'InternData Study': np.int64(86)}\n"
     ]
    }
   ],
   "source": [
    "def count_duplicates(df, column):\n",
    "    return df[column].duplicated().sum()\n",
    "\n",
    "duplicates = {\n",
    "    \"Orders\": count_duplicates(df_orders, \"Order ID\"),\n",
    "    \"Campaign Data\": count_duplicates(df_campaign, \"Order ID\"),\n",
    "    \"Order Process Data\": count_duplicates(df_process, \"Order ID\"),\n",
    "    \"InternData Study\": count_duplicates(df_intern, \"Order ID\"),\n",
    "}\n",
    "\n",
    "print(duplicates)"
   ]
  },
  {
   "cell_type": "code",
   "execution_count": 8,
   "id": "5fb19e99",
   "metadata": {},
   "outputs": [],
   "source": [
    "df_orders_unique   = df_orders.drop_duplicates(subset=\"Order ID\", keep=\"first\")\n",
    "df_campaign_unique = df_campaign.drop_duplicates(subset=\"Order ID\", keep=\"first\")\n",
    "df_process_unique  = df_process.drop_duplicates(subset=\"Order ID\", keep=\"first\")\n",
    "df_intern_unique   = df_intern.drop_duplicates(subset=\"Order ID\", keep=\"first\")"
   ]
  },
  {
   "cell_type": "code",
   "execution_count": 9,
   "id": "eebb3350",
   "metadata": {},
   "outputs": [],
   "source": [
    "#df_orders.shape #5009/9994\n",
    "#df_campaign.shape #333/333\n",
    "#df_process.shape #3002/5899\n",
    "#df_intern.shape #204/290"
   ]
  },
  {
   "cell_type": "code",
   "execution_count": 10,
   "id": "3bbe99e2",
   "metadata": {},
   "outputs": [],
   "source": [
    "#df_orders_unique.shape #5009\n",
    "#df_campaign_unique.shape #333\n",
    "#df_process_unique.shape #3002\n",
    "#df_intern_unique.shape #204"
   ]
  },
  {
   "cell_type": "code",
   "execution_count": 11,
   "id": "40147cf6",
   "metadata": {},
   "outputs": [
    {
     "name": "stderr",
     "output_type": "stream",
     "text": [
      "/var/folders/6q/jbbpf7ln3534rrgvzn52m5lw0000gn/T/ipykernel_1888/258305926.py:1: SettingWithCopyWarning: \n",
      "A value is trying to be set on a copy of a slice from a DataFrame.\n",
      "Try using .loc[row_indexer,col_indexer] = value instead\n",
      "\n",
      "See the caveats in the documentation: https://pandas.pydata.org/pandas-docs/stable/user_guide/indexing.html#returning-a-view-versus-a-copy\n",
      "  df_orders_unique[\"Order Date\"] = pd.to_datetime(df_orders_unique[\"Order Date\"])\n",
      "/var/folders/6q/jbbpf7ln3534rrgvzn52m5lw0000gn/T/ipykernel_1888/258305926.py:2: SettingWithCopyWarning: \n",
      "A value is trying to be set on a copy of a slice from a DataFrame.\n",
      "Try using .loc[row_indexer,col_indexer] = value instead\n",
      "\n",
      "See the caveats in the documentation: https://pandas.pydata.org/pandas-docs/stable/user_guide/indexing.html#returning-a-view-versus-a-copy\n",
      "  df_orders_unique['Order_YearMonth'] = df_orders_unique['Order Date'].dt.to_period('M')\n",
      "/var/folders/6q/jbbpf7ln3534rrgvzn52m5lw0000gn/T/ipykernel_1888/258305926.py:5: SettingWithCopyWarning: \n",
      "A value is trying to be set on a copy of a slice from a DataFrame.\n",
      "Try using .loc[row_indexer,col_indexer] = value instead\n",
      "\n",
      "See the caveats in the documentation: https://pandas.pydata.org/pandas-docs/stable/user_guide/indexing.html#returning-a-view-versus-a-copy\n",
      "  df_orders_unique['Order_YearMonth_str'] = df_orders_unique['Order Date'].dt.strftime('%m.%Y')\n"
     ]
    },
    {
     "data": {
      "text/html": [
       "<div>\n",
       "<style scoped>\n",
       "    .dataframe tbody tr th:only-of-type {\n",
       "        vertical-align: middle;\n",
       "    }\n",
       "\n",
       "    .dataframe tbody tr th {\n",
       "        vertical-align: top;\n",
       "    }\n",
       "\n",
       "    .dataframe thead th {\n",
       "        text-align: right;\n",
       "    }\n",
       "</style>\n",
       "<table border=\"1\" class=\"dataframe\">\n",
       "  <thead>\n",
       "    <tr style=\"text-align: right;\">\n",
       "      <th></th>\n",
       "      <th>Order Date</th>\n",
       "      <th>Order_YearMonth</th>\n",
       "      <th>Order_YearMonth_str</th>\n",
       "    </tr>\n",
       "  </thead>\n",
       "  <tbody>\n",
       "    <tr>\n",
       "      <th>0</th>\n",
       "      <td>2019-01-16</td>\n",
       "      <td>2019-01</td>\n",
       "      <td>01.2019</td>\n",
       "    </tr>\n",
       "    <tr>\n",
       "      <th>1</th>\n",
       "      <td>2019-03-11</td>\n",
       "      <td>2019-03</td>\n",
       "      <td>03.2019</td>\n",
       "    </tr>\n",
       "    <tr>\n",
       "      <th>2</th>\n",
       "      <td>2019-06-20</td>\n",
       "      <td>2019-06</td>\n",
       "      <td>06.2019</td>\n",
       "    </tr>\n",
       "    <tr>\n",
       "      <th>3</th>\n",
       "      <td>2019-06-17</td>\n",
       "      <td>2019-06</td>\n",
       "      <td>06.2019</td>\n",
       "    </tr>\n",
       "    <tr>\n",
       "      <th>4</th>\n",
       "      <td>2018-11-24</td>\n",
       "      <td>2018-11</td>\n",
       "      <td>11.2018</td>\n",
       "    </tr>\n",
       "  </tbody>\n",
       "</table>\n",
       "</div>"
      ],
      "text/plain": [
       "  Order Date Order_YearMonth Order_YearMonth_str\n",
       "0 2019-01-16         2019-01             01.2019\n",
       "1 2019-03-11         2019-03             03.2019\n",
       "2 2019-06-20         2019-06             06.2019\n",
       "3 2019-06-17         2019-06             06.2019\n",
       "4 2018-11-24         2018-11             11.2018"
      ]
     },
     "execution_count": 11,
     "metadata": {},
     "output_type": "execute_result"
    }
   ],
   "source": [
    "df_orders_unique[\"Order Date\"] = pd.to_datetime(df_orders_unique[\"Order Date\"])\n",
    "df_orders_unique['Order_YearMonth'] = df_orders_unique['Order Date'].dt.to_period('M')\n",
    "\n",
    "# Optional: als String im Format \"mm.yyyy\"\n",
    "df_orders_unique['Order_YearMonth_str'] = df_orders_unique['Order Date'].dt.strftime('%m.%Y')\n",
    "\n",
    "# Prüfen\n",
    "df_orders_unique[['Order Date', 'Order_YearMonth', 'Order_YearMonth_str']].head()\n"
   ]
  },
  {
   "cell_type": "code",
   "execution_count": 12,
   "id": "ca2223e8",
   "metadata": {},
   "outputs": [
    {
     "data": {
      "text/plain": [
       "Order_YearMonth\n",
       "2017-01     32\n",
       "2017-02     28\n",
       "2017-03     71\n",
       "2017-04     66\n",
       "2017-05     69\n",
       "2017-06     66\n",
       "2017-07     65\n",
       "2017-08     72\n",
       "2017-09    130\n",
       "2017-10     78\n",
       "2017-11    151\n",
       "2017-12    141\n",
       "2018-01     29\n",
       "2018-02     36\n",
       "2018-03     79\n",
       "2018-04     72\n",
       "2018-05     74\n",
       "2018-06     68\n",
       "2018-07     66\n",
       "2018-08     68\n",
       "2018-09    140\n",
       "2018-10     87\n",
       "2018-11    158\n",
       "2018-12    161\n",
       "2019-01     48\n",
       "2019-02     45\n",
       "2019-03     86\n",
       "2019-04     89\n",
       "2019-05    108\n",
       "2019-06     97\n",
       "2019-07     96\n",
       "2019-08     90\n",
       "2019-09    192\n",
       "2019-10    105\n",
       "2019-11    183\n",
       "2019-12    176\n",
       "2020-01     69\n",
       "2020-02     53\n",
       "2020-03    118\n",
       "2020-04    116\n",
       "2020-05    118\n",
       "2020-06    133\n",
       "2020-07    111\n",
       "2020-08    111\n",
       "2020-09    226\n",
       "2020-10    147\n",
       "2020-11    261\n",
       "2020-12    224\n",
       "Freq: M, dtype: int64"
      ]
     },
     "execution_count": 12,
     "metadata": {},
     "output_type": "execute_result"
    }
   ],
   "source": [
    "df_orders_unique.groupby('Order_YearMonth').size()"
   ]
  },
  {
   "cell_type": "code",
   "execution_count": 13,
   "id": "f18f1c1b",
   "metadata": {},
   "outputs": [],
   "source": [
    "# Gruppieren und zählen\n",
    "monthly_orders = df_orders_unique.groupby('Order_YearMonth').size().reset_index(name='Order_Count')\n",
    "\n",
    "# Als CSV speichern\n",
    "monthly_orders.to_csv('monthly_orders.csv', index=False)\n"
   ]
  },
  {
   "cell_type": "code",
   "execution_count": 14,
   "id": "f7edb156",
   "metadata": {},
   "outputs": [
    {
     "name": "stderr",
     "output_type": "stream",
     "text": [
      "/var/folders/6q/jbbpf7ln3534rrgvzn52m5lw0000gn/T/ipykernel_1888/604631522.py:2: SettingWithCopyWarning: \n",
      "A value is trying to be set on a copy of a slice from a DataFrame.\n",
      "Try using .loc[row_indexer,col_indexer] = value instead\n",
      "\n",
      "See the caveats in the documentation: https://pandas.pydata.org/pandas-docs/stable/user_guide/indexing.html#returning-a-view-versus-a-copy\n",
      "  df_orders_unique['Order Date'] = pd.to_datetime(df_orders_unique['Order Date'])\n",
      "/var/folders/6q/jbbpf7ln3534rrgvzn52m5lw0000gn/T/ipykernel_1888/604631522.py:5: SettingWithCopyWarning: \n",
      "A value is trying to be set on a copy of a slice from a DataFrame.\n",
      "Try using .loc[row_indexer,col_indexer] = value instead\n",
      "\n",
      "See the caveats in the documentation: https://pandas.pydata.org/pandas-docs/stable/user_guide/indexing.html#returning-a-view-versus-a-copy\n",
      "  df_orders_unique['Order_YearMonth'] = df_orders_unique['Order Date'].dt.to_period('M')\n"
     ]
    }
   ],
   "source": [
    "# Sicherstellen, dass Order Date datetime ist\n",
    "df_orders_unique['Order Date'] = pd.to_datetime(df_orders_unique['Order Date'])\n",
    "\n",
    "# Jahr-Monat extrahieren\n",
    "df_orders_unique['Order_YearMonth'] = df_orders_unique['Order Date'].dt.to_period('M')\n",
    "\n",
    "# Nur die Jahr-Monat-Spalte als eigene Liste\n",
    "year_month_list = df_orders_unique['Order_YearMonth'].astype(str).tolist()\n",
    "\n",
    "# Optional: in CSV speichern\n",
    "import pandas as pd\n",
    "\n",
    "pd.DataFrame(year_month_list, columns=['Order_YearMonth']).to_csv('order_year_month_list.csv', index=False)\n"
   ]
  },
  {
   "cell_type": "code",
   "execution_count": 15,
   "id": "fb6601f9",
   "metadata": {},
   "outputs": [
    {
     "name": "stdout",
     "output_type": "stream",
     "text": [
      "   Index        Order ID Order Date_x     Ship Mode_x Customer ID  \\\n",
      "0     27  CA-2019-121755   2019-01-16    Second Class    EH-13945   \n",
      "1     45  CA-2019-118255   2019-03-11     First Class    ON-18715   \n",
      "2     48  CA-2019-169194   2019-06-20  Standard Class    LH-16900   \n",
      "3     60  CA-2019-111682   2019-06-17     First Class    TB-21055   \n",
      "4     63  CA-2018-135545   2018-11-24  Standard Class    KM-16720   \n",
      "\n",
      "   Customer Name_x Origin Channel Country/Region         City       State  \\\n",
      "0    Eric Hoffmann          Email  United States  Los Angeles  California   \n",
      "1    Odella Nelson          Sales  United States        Eagan   Minnesota   \n",
      "2   Lena Hernandez          Email  United States        Dover    Delaware   \n",
      "3  Ted Butterfield          Email  United States         Troy    New York   \n",
      "4     Kunst Miller          Email  United States  Los Angeles  California   \n",
      "\n",
      "   ...  Order_YearMonth Order_YearMonth_str Arrival Scan Date Customer Name_y  \\\n",
      "0  ...          2019-01             01.2019               NaT             NaN   \n",
      "1  ...          2019-03             03.2019               NaT             NaN   \n",
      "2  ...          2019-06             06.2019               NaT             NaN   \n",
      "3  ...          2019-06             06.2019               NaT             NaN   \n",
      "4  ...          2018-11             11.2018               NaT             NaN   \n",
      "\n",
      "  Row ID  Order Date_y  On Truck Scan Date          Ship Mode_y  \\\n",
      "0   26.0    2019-01-16          2019-01-23  Standard Processing   \n",
      "1   45.0    2019-03-11          2019-03-13              Express   \n",
      "2   48.0    2019-06-20          2019-06-26  Standard Processing   \n",
      "3   56.0    2019-06-17          2019-06-19              Express   \n",
      "4    NaN           NaT                 NaT                  NaN   \n",
      "\n",
      "   Ready to Ship Date Pickup Date  \n",
      "0                 NaT         NaT  \n",
      "1                 NaT         NaT  \n",
      "2                 NaT         NaT  \n",
      "3                 NaT         NaT  \n",
      "4                 NaT         NaT  \n",
      "\n",
      "[5 rows x 29 columns]\n",
      "(5009, 29)\n"
     ]
    }
   ],
   "source": [
    "#Mergen\n",
    "\n",
    "# 1. df_orders_unique als Basis\n",
    "df_merged = df_orders_unique.copy()\n",
    "\n",
    "# 2. df_campaign_unique joinen\n",
    "df_merged = df_merged.merge(df_campaign_unique, on=\"Order ID\", how=\"left\")\n",
    "\n",
    "# 3. df_process_unique joinen\n",
    "df_merged = df_merged.merge(df_process_unique, on=\"Order ID\", how=\"left\")\n",
    "\n",
    "# 4. df_intern_unique joinen\n",
    "df_merged = df_merged.merge(df_intern_unique, on=\"Order ID\", how=\"left\")\n",
    "\n",
    "# Ergebnis prüfen\n",
    "print(df_merged.head())\n",
    "print(df_merged.shape)"
   ]
  },
  {
   "cell_type": "code",
   "execution_count": 16,
   "id": "65e54ed5",
   "metadata": {},
   "outputs": [
    {
     "data": {
      "text/plain": [
       "(5009, 29)"
      ]
     },
     "execution_count": 16,
     "metadata": {},
     "output_type": "execute_result"
    }
   ],
   "source": [
    "df_merged.shape"
   ]
  },
  {
   "cell_type": "code",
   "execution_count": 17,
   "id": "9b16c61d",
   "metadata": {},
   "outputs": [],
   "source": [
    "df_merged.to_csv(\"merged_orders.csv\", index=False)"
   ]
  },
  {
   "cell_type": "code",
   "execution_count": 18,
   "id": "8eaad5fb",
   "metadata": {},
   "outputs": [
    {
     "data": {
      "text/plain": [
       "Index(['Index', 'Order ID', 'Order Date', 'Ship Mode', 'Customer ID',\n",
       "       'Customer Name', 'Origin Channel', 'Country/Region', 'City', 'State',\n",
       "       'Postal Code', 'Region', 'Category', 'Sub-Category', 'Product ID',\n",
       "       'Sales', 'Quantity', 'Discount', 'Profit', 'Order_YearMonth',\n",
       "       'Order_YearMonth_str'],\n",
       "      dtype='object')"
      ]
     },
     "execution_count": 18,
     "metadata": {},
     "output_type": "execute_result"
    }
   ],
   "source": [
    "df_orders_unique.columns"
   ]
  }
 ],
 "metadata": {
  "kernelspec": {
   "display_name": "base",
   "language": "python",
   "name": "python3"
  },
  "language_info": {
   "codemirror_mode": {
    "name": "ipython",
    "version": 3
   },
   "file_extension": ".py",
   "mimetype": "text/x-python",
   "name": "python",
   "nbconvert_exporter": "python",
   "pygments_lexer": "ipython3",
   "version": "3.13.5"
  }
 },
 "nbformat": 4,
 "nbformat_minor": 5
}
